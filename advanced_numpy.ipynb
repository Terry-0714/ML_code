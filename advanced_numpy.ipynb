{
 "cells": [
  {
   "cell_type": "markdown",
   "id": "beac48d9",
   "metadata": {},
   "source": [
    "### 理解 NumPy 陣列的廣播規則(broadcasting)\n",
    "#### 向量化運算：不用迴圈、直接讓陣列彼此相加、相乘"
   ]
  },
  {
   "cell_type": "code",
   "execution_count": 35,
   "id": "8235e0ea",
   "metadata": {},
   "outputs": [
    {
     "name": "stdout",
     "output_type": "stream",
     "text": [
      "相加後的矩陣形狀（列數、行數）\n",
      "(3, 4)\n"
     ]
    }
   ],
   "source": [
    "import numpy as np\n",
    "# 建立 shape 為 (3, 1) 的 array_a 與 (1, 4) 的 array_b\n",
    "array_a = np.ones((3, 1))\n",
    "array_b = np.ones((1, 4))\n",
    "\n",
    "# 相加後，打印出結果的矩陣形狀 shape ，應為 (3, 4)\n",
    "array_c = array_a + array_b\n",
    "print(f\"相加後的矩陣形狀（列數、行數）\")\n",
    "print(np.shape(array_c))"
   ]
  },
  {
   "cell_type": "markdown",
   "id": "3645b90e",
   "metadata": {},
   "source": [
    "#### 廣播並延展陣列"
   ]
  },
  {
   "cell_type": "code",
   "execution_count": 36,
   "id": "9fd37ffc",
   "metadata": {},
   "outputs": [
    {
     "name": "stdout",
     "output_type": "stream",
     "text": [
      "橫向延展_column複製\n",
      "[[1]\n",
      " [2]\n",
      " [3]]\n",
      "[[1 1 1 1]\n",
      " [2 2 2 2]\n",
      " [3 3 3 3]]\n",
      "\n",
      "縱向延展_row複製\n",
      "[[10 20 30 40]]\n",
      "[[10 20 30 40]\n",
      " [10 20 30 40]\n",
      " [10 20 30 40]]\n",
      "\n",
      "延展並相加結果\n",
      "[[11 21 31 41]\n",
      " [12 22 32 42]\n",
      " [13 23 33 43]]\n",
      "\n",
      "直接相加結果\n",
      "[[11 21 31 41]\n",
      " [12 22 32 42]\n",
      " [13 23 33 43]]\n"
     ]
    }
   ],
   "source": [
    "import numpy as np\n",
    "# 建立 shape 為 (3, 1) 的 array_a 與 (1, 4) 的 array_b\n",
    "array_a = np.array([[1], [2], [3]])\n",
    "array_b = np.array([[10, 20, 30, 40]])\n",
    "\n",
    "# 確認兩個 array 的內容，並使用 np.broadcast_to 顯示延展結果\n",
    "broadcast_a = np.broadcast_to(array_a, (3, 4))\n",
    "broadcast_b = np.broadcast_to(array_b, (3, 4))\n",
    "\n",
    "# 印出延展前後的內容\n",
    "print(f\"橫向延展_column複製\")\n",
    "print(array_a)\n",
    "print(broadcast_a)\n",
    "print()\n",
    "\n",
    "print(f\"縱向延展_row複製\")\n",
    "print(array_b)\n",
    "print(broadcast_b)\n",
    "print()\n",
    "\n",
    "# 兩個 array 是先透過延展再相加\n",
    "array_c = array_a + array_b\n",
    "c = broadcast_a + broadcast_b\n",
    "print(f\"延展並相加結果\")\n",
    "print(c)\n",
    "print()\n",
    "\n",
    "print(f\"直接相加結果\")\n",
    "print(array_c)"
   ]
  },
  {
   "cell_type": "markdown",
   "id": "03a7f000",
   "metadata": {},
   "source": [
    "#### 遮罩與條件篩選"
   ]
  },
  {
   "cell_type": "code",
   "execution_count": 37,
   "id": "75391f7c",
   "metadata": {},
   "outputs": [
    {
     "name": "stdout",
     "output_type": "stream",
     "text": [
      "[0.5672697  0.76733469 0.46338782 0.3028645  0.58490495 0.62829314\n",
      " 0.28310148 0.59839204 0.67205316 0.36798716]\n",
      "\n",
      "[ True  True False False  True  True False  True  True False]\n",
      "\n",
      "[1 1 0 0 1 1 0 1 1 0]\n"
     ]
    }
   ],
   "source": [
    "import numpy as np\n",
    "\n",
    "# 建立一個隨機陣列，包含十個數字\n",
    "arr = np.random.rand(10)\n",
    "print(arr)\n",
    "print()\n",
    "\n",
    "# 篩選條件：數字必須大於 0.5 ，符合者標為 True ，其餘為 False\n",
    "arr_compare = arr > 0.5\n",
    "print(arr_compare)\n",
    "print()\n",
    "\n",
    "# 使用 np.where，數字必須大於 0.5 ；符合條件者標記為 1 ；否則為 0 。\n",
    "# 編按：另類的四捨五入操作？\n",
    "arr_compare_2 = np.where(arr > 0.5, 1, 0)\n",
    "print(arr_compare_2)"
   ]
  },
  {
   "cell_type": "markdown",
   "id": "40ff2d17",
   "metadata": {},
   "source": [
    "### 條件計算 + reshape"
   ]
  },
  {
   "cell_type": "code",
   "execution_count": 38,
   "id": "b4aa7e4c",
   "metadata": {},
   "outputs": [
    {
     "name": "stdout",
     "output_type": "stream",
     "text": [
      "[[95 44  2 16 60]\n",
      " [28 28 14 10 14]\n",
      " [54 93 35 89 25]\n",
      " [53 57 38 25 71]]\n",
      "\n",
      "找出每一列的最大值\n",
      "第1列的最大值：95\n",
      "第2列的最大值：28\n",
      "第3列的最大值：93\n",
      "第4列的最大值：71\n",
      "\n",
      "[95 44  2 16 60 28 28 14 10 14 54 93 35 89 25 53 57 38 25 71]\n",
      "第一次轉換形狀：(20,)\n",
      "\n",
      "[[95 44  2 16]\n",
      " [60 28 28 14]\n",
      " [10 14 54 93]\n",
      " [35 89 25 53]\n",
      " [57 38 25 71]]\n",
      "第二次轉換形狀：(5, 4)\n",
      "\n",
      "[[95 44  2 16 60 28 28 14 10 14]\n",
      " [54 93 35 89 25 53 57 38 25 71]]\n",
      "第三次轉換形狀：(2, 10)\n"
     ]
    }
   ],
   "source": [
    "import numpy as np\n",
    "arr = np.random.randint(0, 100, size = (4, 5))\n",
    "print(arr)\n",
    "print()\n",
    "\n",
    "# 找出每一列的最大值\n",
    "print(f\"找出每一列的最大值\")\n",
    "for i in range(0, 4):\n",
    "    arr_max = np.max(arr[i, ])\n",
    "    print(f\"第{i + 1}列的最大值：{arr_max}\")\n",
    "print()\n",
    "\n",
    "# 調整 array 的形狀 (your_array.reshape(rows, columns))\n",
    "rearr_1 = arr.reshape(20, )\n",
    "print(rearr_1)\n",
    "print(f\"第一次轉換形狀：{np.shape(rearr_1)}\")\n",
    "print()\n",
    "\n",
    "rearr_2 = rearr_1.reshape(5, 4)\n",
    "print(rearr_2)\n",
    "print(f\"第二次轉換形狀：{np.shape(rearr_2)}\")\n",
    "print()\n",
    "\n",
    "rearr_3 = rearr_2.reshape(2, 10)\n",
    "print(rearr_3)\n",
    "print(f\"第三次轉換形狀：{np.shape(rearr_3)}\")"
   ]
  },
  {
   "cell_type": "markdown",
   "id": "7e56f878",
   "metadata": {},
   "source": [
    "### 應用：模擬基因資料"
   ]
  },
  {
   "cell_type": "code",
   "execution_count": 41,
   "id": "aab1cd10",
   "metadata": {},
   "outputs": [
    {
     "name": "stdout",
     "output_type": "stream",
     "text": [
      "[0.59003522 0.16530461 0.84135499 0.98478163 0.93419723 0.37898249\n",
      " 0.45047991 0.82883862 0.22175936 0.78088689 0.78821161 0.97200457\n",
      " 0.36388144 0.58815738 0.58610491 0.62695171 0.3760732  0.48323549\n",
      " 0.5877107  0.56152663 0.12216467 0.04300691 0.56010189 0.17231641\n",
      " 0.853698   0.02378113 0.13198753 0.87926666 0.8291946  0.01863869\n",
      " 0.70379205 0.46843055 0.56647677 0.87675004 0.68109403 0.48363941\n",
      " 0.77307031 0.72288486 0.66993933 0.50755514 0.48704623 0.16702818\n",
      " 0.1363372  0.24766592 0.54210375 0.48642137 0.299787   0.53534534\n",
      " 0.2032776  0.85807839 0.27915473 0.29534938 0.21450584 0.3184781\n",
      " 0.16642494 0.91518112 0.84497624 0.88158262 0.45019092 0.00352695\n",
      " 0.19755686 0.37889954 0.10904678 0.95470236 0.11849645 0.09983377\n",
      " 0.6849913  0.60084803 0.59149845 0.76581871 0.63445527 0.10380605\n",
      " 0.18124584 0.42498518 0.38910458 0.33570512 0.57197529 0.7300346\n",
      " 0.75290243 0.6118628  0.54808168 0.63913522 0.87251115 0.80308468\n",
      " 0.52161633 0.21745469 0.95969348 0.73542833 0.08721218 0.38726475\n",
      " 0.41364612 0.70008771 0.27164525 0.02190474 0.29827403 0.51000925\n",
      " 0.52472161 0.95868689 0.45894514 0.85885746]\n",
      "['Mid' 'Low' 'High' 'High' 'High' 'Mid' 'Mid' 'High' 'Mid' 'Mid' 'Mid'\n",
      " 'High' 'Mid' 'Mid' 'Mid' 'Mid' 'Mid' 'Mid' 'Mid' 'Mid' 'Low' 'Low' 'Mid'\n",
      " 'Low' 'High' 'Low' 'Low' 'High' 'High' 'Low' 'Mid' 'Mid' 'Mid' 'High'\n",
      " 'Mid' 'Mid' 'Mid' 'Mid' 'Mid' 'Mid' 'Mid' 'Low' 'Low' 'Mid' 'Mid' 'Mid'\n",
      " 'Mid' 'Mid' 'Mid' 'High' 'Mid' 'Mid' 'Mid' 'Mid' 'Low' 'High' 'High'\n",
      " 'High' 'Mid' 'Low' 'Low' 'Mid' 'Low' 'High' 'Low' 'Low' 'Mid' 'Mid' 'Mid'\n",
      " 'Mid' 'Mid' 'Low' 'Low' 'Mid' 'Mid' 'Mid' 'Mid' 'Mid' 'Mid' 'Mid' 'Mid'\n",
      " 'Mid' 'High' 'High' 'Mid' 'Mid' 'High' 'Mid' 'Low' 'Mid' 'Mid' 'Mid'\n",
      " 'Mid' 'Low' 'Mid' 'Mid' 'Mid' 'High' 'Mid' 'High']\n",
      "(100,)\n"
     ]
    }
   ],
   "source": [
    "import numpy as np\n",
    "expr = np.random.rand(100)\n",
    "\n",
    "labels = np.where(expr > 0.8, \"High\", np.where(expr < 0.2, \"Low\", \"Mid\"))\n",
    "\n",
    "print(expr)\n",
    "print(labels)\n",
    "print(np.shape(labels))\n"
   ]
  },
  {
   "cell_type": "markdown",
   "id": "a72f9030",
   "metadata": {},
   "source": [
    "#### 補充：向量跟for迴圈的效率差異"
   ]
  },
  {
   "cell_type": "code",
   "execution_count": 42,
   "id": "8eb1e798",
   "metadata": {},
   "outputs": [
    {
     "name": "stdout",
     "output_type": "stream",
     "text": [
      "50000005000000.0\n",
      "50000005000000\n",
      "向量運算秒數：0.48712\n",
      "迴圈運算秒數：1.77775\n"
     ]
    }
   ],
   "source": [
    "import numpy as np\n",
    "import time\n",
    "\n",
    "start = time.time()\n",
    "a = np.ones(10000000)\n",
    "b = np.arange(1, 10000001)\n",
    "print(a.dot(b))\n",
    "end_1 = time.time()\n",
    "total = 0\n",
    "for i in range(1, 10000001):\n",
    "    total += i\n",
    "print(total)\n",
    "end_2 = time.time()\n",
    "\n",
    "print(f\"向量運算秒數：{round(end_1 - start, 5)}\")\n",
    "print(f\"迴圈運算秒數：{round(end_2 - end_1, 5)}\")    "
   ]
  }
 ],
 "metadata": {
  "kernelspec": {
   "display_name": "hts_env",
   "language": "python",
   "name": "python3"
  },
  "language_info": {
   "codemirror_mode": {
    "name": "ipython",
    "version": 3
   },
   "file_extension": ".py",
   "mimetype": "text/x-python",
   "name": "python",
   "nbconvert_exporter": "python",
   "pygments_lexer": "ipython3",
   "version": "3.10.16"
  }
 },
 "nbformat": 4,
 "nbformat_minor": 5
}
