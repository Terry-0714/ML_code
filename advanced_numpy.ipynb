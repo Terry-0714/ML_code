{
 "cells": [
  {
   "cell_type": "markdown",
   "id": "beac48d9",
   "metadata": {},
   "source": [
    "### 理解 NumPy 陣列的廣播規則(broadcasting)\n",
    "#### 向量化運算：不用迴圈、直接讓陣列彼此相加、相乘"
   ]
  },
  {
   "cell_type": "code",
   "execution_count": 8,
   "id": "8235e0ea",
   "metadata": {},
   "outputs": [
    {
     "name": "stdout",
     "output_type": "stream",
     "text": [
      "相加後的矩陣形狀（列數、行數）\n",
      "(3, 4)\n"
     ]
    }
   ],
   "source": [
    "import numpy as np\n",
    "# 建立 shape 為 (3, 1) 的 array_a 與 (1, 4) 的 array_b\n",
    "array_a = np.ones((3, 1))\n",
    "array_b = np.ones((1, 4))\n",
    "\n",
    "# 相加後，打印出結果的矩陣形狀 shape ，應為 (3, 4)\n",
    "array_c = array_a + array_b\n",
    "print(f\"相加後的矩陣形狀（列數、行數）\")\n",
    "print(np.shape(array_c))"
   ]
  },
  {
   "cell_type": "markdown",
   "id": "3645b90e",
   "metadata": {},
   "source": [
    "#### 廣播並延展陣列"
   ]
  },
  {
   "cell_type": "code",
   "execution_count": 7,
   "id": "9fd37ffc",
   "metadata": {},
   "outputs": [
    {
     "name": "stdout",
     "output_type": "stream",
     "text": [
      "橫向延展_column複製\n",
      "[[1]\n",
      " [2]\n",
      " [3]]\n",
      "[[1 1 1 1]\n",
      " [2 2 2 2]\n",
      " [3 3 3 3]]\n",
      "\n",
      "縱向延展_row複製\n",
      "[[10 20 30 40]]\n",
      "[[10 20 30 40]\n",
      " [10 20 30 40]\n",
      " [10 20 30 40]]\n",
      "\n",
      "延展並相加結果\n",
      "[[11 21 31 41]\n",
      " [12 22 32 42]\n",
      " [13 23 33 43]]\n",
      "\n",
      "直接相加結果\n",
      "[[11 21 31 41]\n",
      " [12 22 32 42]\n",
      " [13 23 33 43]]\n"
     ]
    }
   ],
   "source": [
    "import numpy as np\n",
    "# 建立 shape 為 (3, 1) 的 array_a 與 (1, 4) 的 array_b\n",
    "array_a = np.array([[1], [2], [3]])\n",
    "array_b = np.array([[10, 20, 30, 40]])\n",
    "\n",
    "# 確認兩個 array 的內容，並使用 np.broadcast_to 顯示延展結果\n",
    "broadcast_a = np.broadcast_to(array_a, (3, 4))\n",
    "broadcast_b = np.broadcast_to(array_b, (3, 4))\n",
    "\n",
    "# 印出延展前後的內容\n",
    "print(f\"橫向延展_column複製\")\n",
    "print(array_a)\n",
    "print(broadcast_a)\n",
    "print()\n",
    "\n",
    "print(f\"縱向延展_row複製\")\n",
    "print(array_b)\n",
    "print(broadcast_b)\n",
    "print()\n",
    "\n",
    "# 兩個 array 是先透過延展再相加\n",
    "array_c = array_a + array_b\n",
    "c = broadcast_a + broadcast_b\n",
    "print(f\"延展並相加結果\")\n",
    "print(c)\n",
    "print()\n",
    "\n",
    "print(f\"直接相加結果\")\n",
    "print(array_c)"
   ]
  },
  {
   "cell_type": "markdown",
   "id": "03a7f000",
   "metadata": {},
   "source": [
    "#### 遮罩與條件篩選"
   ]
  },
  {
   "cell_type": "code",
   "execution_count": null,
   "id": "75391f7c",
   "metadata": {},
   "outputs": [
    {
     "name": "stdout",
     "output_type": "stream",
     "text": [
      "[0.22156569 0.31979874 0.93209828 0.20009645 0.9710366  0.91957347\n",
      " 0.4694557  0.93476259 0.37515013 0.44126398]\n",
      "\n",
      "[False False  True False  True  True False  True False False]\n",
      "\n",
      "[0 0 1 0 1 1 0 1 0 0]\n"
     ]
    }
   ],
   "source": [
    "import numpy as np\n",
    "\n",
    "# 建立一個隨機陣列，包含十個數字\n",
    "arr = np.random.rand(10)\n",
    "print(arr)\n",
    "print()\n",
    "\n",
    "# 篩選條件：數字必須大於 0.5 ，符合者標為 True ，其餘為 False\n",
    "arr_compare = arr > 0.5\n",
    "print(arr_compare)\n",
    "print()\n",
    "\n",
    "# 使用 np.where，數字必須大於 0.5 ；符合條件者標記為 1 ；否則為 0 。\n",
    "# 編按：另類的四捨五入操作？\n",
    "arr_compare_2 = np.where(arr > 0.5, 1, 0)\n",
    "print(arr_compare_2)"
   ]
  },
  {
   "cell_type": "markdown",
   "id": "40ff2d17",
   "metadata": {},
   "source": [
    "### 條件計算 + reshape"
   ]
  },
  {
   "cell_type": "code",
   "execution_count": 32,
   "id": "b4aa7e4c",
   "metadata": {},
   "outputs": [
    {
     "name": "stdout",
     "output_type": "stream",
     "text": [
      "[[75 39 80 63 39]\n",
      " [89 20 88 68 92]\n",
      " [45 70  9 92 40]\n",
      " [49 64 33  0 14]]\n",
      "\n",
      "找出每一列的最大值\n",
      "第1列的最大值：80\n",
      "第2列的最大值：92\n",
      "第3列的最大值：92\n",
      "第4列的最大值：64\n",
      "\n",
      "[75 39 80 63 39 89 20 88 68 92 45 70  9 92 40 49 64 33  0 14]\n",
      "第一次轉換形狀：(20,)\n",
      "\n",
      "[[75 39 80 63]\n",
      " [39 89 20 88]\n",
      " [68 92 45 70]\n",
      " [ 9 92 40 49]\n",
      " [64 33  0 14]]\n",
      "第二次轉換形狀：(5, 4)\n",
      "\n",
      "[[75 39 80 63 39 89 20 88 68 92]\n",
      " [45 70  9 92 40 49 64 33  0 14]]\n",
      "第三次轉換形狀：(2, 10)\n"
     ]
    }
   ],
   "source": [
    "import numpy as np\n",
    "arr = np.random.randint(0, 100, size = (4, 5))\n",
    "print(arr)\n",
    "print()\n",
    "\n",
    "# 找出每一列的最大值\n",
    "print(f\"找出每一列的最大值\")\n",
    "for i in range(0, 4):\n",
    "    arr_max = np.max(arr[i, ])\n",
    "    print(f\"第{i + 1}列的最大值：{arr_max}\")\n",
    "print()\n",
    "\n",
    "# 調整 array 的形狀 (your_array.reshape(rows, columns))\n",
    "rearr_1 = arr.reshape(20, )\n",
    "print(rearr_1)\n",
    "print(f\"第一次轉換形狀：{np.shape(rearr_1)}\")\n",
    "print()\n",
    "\n",
    "rearr_2 = rearr_1.reshape(5, 4)\n",
    "print(rearr_2)\n",
    "print(f\"第二次轉換形狀：{np.shape(rearr_2)}\")\n",
    "print()\n",
    "\n",
    "rearr_3 = rearr_2.reshape(2, 10)\n",
    "print(rearr_3)\n",
    "print(f\"第三次轉換形狀：{np.shape(rearr_3)}\")"
   ]
  },
  {
   "cell_type": "markdown",
   "id": "a72f9030",
   "metadata": {},
   "source": [
    "#### 補充：向量跟for迴圈的效率差異"
   ]
  },
  {
   "cell_type": "code",
   "execution_count": 14,
   "id": "8eb1e798",
   "metadata": {},
   "outputs": [
    {
     "name": "stdout",
     "output_type": "stream",
     "text": [
      "50005000.0\n",
      "50005000\n",
      "向量運算秒數：0.0368\n",
      "迴圈運算秒數：0.00299\n"
     ]
    }
   ],
   "source": [
    "import numpy as np\n",
    "import time\n",
    "\n",
    "start = time.time()\n",
    "a = np.ones(10000)\n",
    "b = np.arange(1, 10001)\n",
    "print(a.dot(b))\n",
    "end_1 = time.time()\n",
    "total = 0\n",
    "for i in range(1, 10001):\n",
    "    total += i\n",
    "print(total)\n",
    "end_2 = time.time()\n",
    "\n",
    "print(f\"向量運算秒數：{round(end_1 - start, 5)}\")\n",
    "print(f\"迴圈運算秒數：{round(end_2 - end_1, 5)}\")    "
   ]
  }
 ],
 "metadata": {
  "kernelspec": {
   "display_name": "hts_env",
   "language": "python",
   "name": "python3"
  },
  "language_info": {
   "codemirror_mode": {
    "name": "ipython",
    "version": 3
   },
   "file_extension": ".py",
   "mimetype": "text/x-python",
   "name": "python",
   "nbconvert_exporter": "python",
   "pygments_lexer": "ipython3",
   "version": "3.10.16"
  }
 },
 "nbformat": 4,
 "nbformat_minor": 5
}
